{
  "nbformat": 4,
  "nbformat_minor": 0,
  "metadata": {
    "colab": {
      "provenance": [],
      "authorship_tag": "ABX9TyMJo0wdn4riWvkBIcp2hNo3",
      "include_colab_link": true
    },
    "kernelspec": {
      "name": "python3",
      "display_name": "Python 3"
    },
    "language_info": {
      "name": "python"
    }
  },
  "cells": [
    {
      "cell_type": "markdown",
      "metadata": {
        "id": "view-in-github",
        "colab_type": "text"
      },
      "source": [
        "<a href=\"https://colab.research.google.com/github/igorbrit0/Chatbot_Suporte_Tecnico/blob/main/Untitled2.ipynb\" target=\"_parent\"><img src=\"https://colab.research.google.com/assets/colab-badge.svg\" alt=\"Open In Colab\"/></a>"
      ]
    },
    {
      "cell_type": "code",
      "execution_count": 1,
      "metadata": {
        "id": "FcP3HCdhoUoI"
      },
      "outputs": [],
      "source": [
        "!pip install -q -U google-generativeai"
      ]
    },
    {
      "cell_type": "code",
      "source": [
        "import google.generativeai as genai\n",
        "from google.colab import userdata\n",
        "import textwrap\n",
        "from IPython.display import Markdown"
      ],
      "metadata": {
        "id": "fph3Hh68ETDh"
      },
      "execution_count": 13,
      "outputs": []
    },
    {
      "cell_type": "markdown",
      "source": [
        "Configuração do API key"
      ],
      "metadata": {
        "id": "n_N8N_TCEYr2"
      }
    },
    {
      "cell_type": "code",
      "source": [
        "api_key = userdata.get('SECRET_KEY')\n",
        "genai.configure(api_key=api_key)"
      ],
      "metadata": {
        "id": "78ks6OlxMmIw"
      },
      "execution_count": 26,
      "outputs": []
    },
    {
      "cell_type": "markdown",
      "source": [
        "Configurações de geração"
      ],
      "metadata": {
        "id": "wkHDFMQAIQJy"
      }
    },
    {
      "cell_type": "code",
      "source": [
        "gen_config = {\n",
        "    'candidate_count': 1,\n",
        "    'temperature': 0.5,\n",
        "}"
      ],
      "metadata": {
        "id": "gRuy2-AcMv-f"
      },
      "execution_count": 27,
      "outputs": []
    },
    {
      "cell_type": "markdown",
      "source": [
        "Configurações de segurança"
      ],
      "metadata": {
        "id": "fk8r1IOUIakx"
      }
    },
    {
      "cell_type": "code",
      "source": [
        "safety_settings = {\n",
        "    'HATE': 'BLOCK_NONE',\n",
        "    'HARASSMENT': 'BLOCK_NONE',\n",
        "    'SEXUAL' : 'BLOCK_NONE',\n",
        "    'DANGEROUS' : 'BLOCK_NONE'\n",
        "}"
      ],
      "metadata": {
        "id": "gz8op5KrMyRv"
      },
      "execution_count": 28,
      "outputs": []
    },
    {
      "cell_type": "markdown",
      "source": [
        "Inicialização do modelo"
      ],
      "metadata": {
        "id": "Bk31VVH8Imur"
      }
    },
    {
      "cell_type": "code",
      "source": [
        "model = genai.GenerativeModel(model_name='gemini-1.0-pro',\n",
        "                               generation_config=gen_config,\n",
        "                               safety_settings=safety_settings)"
      ],
      "metadata": {
        "id": "Sbzvit6kM4Y5"
      },
      "execution_count": 29,
      "outputs": []
    },
    {
      "cell_type": "markdown",
      "source": [
        "Função para visualizar o histórico de chat"
      ],
      "metadata": {
        "id": "Vs5Ik2txIzCs"
      }
    },
    {
      "cell_type": "code",
      "source": [
        "def display_chat_history(history):\n",
        "    for message in history:\n",
        "        display(to_markdown(f'**{message.role}**: {message.parts[0].text}'))\n",
        "        print('-------------------------------------------')"
      ],
      "metadata": {
        "id": "ZuU_CcQHM9lf"
      },
      "execution_count": 30,
      "outputs": []
    },
    {
      "cell_type": "markdown",
      "source": [
        "Função para converter texto em Markdown"
      ],
      "metadata": {
        "id": "OuEaVhkcI-HJ"
      }
    },
    {
      "cell_type": "code",
      "source": [
        "def to_markdown(text):\n",
        "    text = text.replace('•', '  *')\n",
        "    return Markdown(textwrap.indent(text, '> ', predicate=lambda _: True))"
      ],
      "metadata": {
        "id": "vSS1slt4NaC7"
      },
      "execution_count": 32,
      "outputs": []
    },
    {
      "cell_type": "markdown",
      "source": [
        "Iniciar uma conversa"
      ],
      "metadata": {
        "id": "sAoncD-JJItj"
      }
    },
    {
      "cell_type": "code",
      "source": [
        "def start_chat():\n",
        "    chat = model.start_chat(history=[])\n",
        "    return chat"
      ],
      "metadata": {
        "id": "UYnv_XEYNeYX"
      },
      "execution_count": 33,
      "outputs": []
    },
    {
      "cell_type": "markdown",
      "source": [
        "Continuar a conversa"
      ],
      "metadata": {
        "id": "Q9rwEcYVJSfn"
      }
    },
    {
      "cell_type": "code",
      "source": [
        "def continue_chat(chat, prompt):\n",
        "    response = chat.send_message(prompt)\n",
        "    return response, chat"
      ],
      "metadata": {
        "id": "tBWzvu3DNtG5"
      },
      "execution_count": 34,
      "outputs": []
    },
    {
      "cell_type": "markdown",
      "source": [
        "Encerrar Conversa"
      ],
      "metadata": {
        "id": "6NFRXboYNv-v"
      }
    },
    {
      "cell_type": "code",
      "source": [
        "def end_chat(chat):\n",
        "    response = chat.send_message('fim')\n",
        "    return response"
      ],
      "metadata": {
        "id": "1CQMz3DKN07f"
      },
      "execution_count": 35,
      "outputs": []
    },
    {
      "cell_type": "markdown",
      "source": [
        "Funcionalidade principal"
      ],
      "metadata": {
        "id": "sDUkK5MjJe8v"
      }
    },
    {
      "cell_type": "code",
      "source": [
        "def main():\n",
        "    print(\"Bem-vindo ao suporte técnico do Gemini!\\n\")\n",
        "    print(\"Você pode digitar 'fim' a qualquer momento para encerrar a conversa.\\n\")\n",
        "    chat = start_chat()\n",
        "    message_count = 0\n",
        "\n",
        "    while True:\n",
        "        prompt = input(\"Você: \")\n",
        "        if prompt.lower() == 'fim':\n",
        "            end_chat(chat)\n",
        "            print(\"\\nConversa encerrada. Obrigado por usar o suporte técnico do Gemini!\")\n",
        "            break\n",
        "\n",
        "        response, chat = continue_chat(chat, prompt)\n",
        "        message_count += 1\n",
        "        print(\"\\nGemini:\", response.text, \"\\n\")\n",
        "        display_chat_history(chat.history)"
      ],
      "metadata": {
        "id": "fGSPnNevR6LR"
      },
      "execution_count": 38,
      "outputs": []
    },
    {
      "cell_type": "markdown",
      "source": [
        "Executar o programa principal"
      ],
      "metadata": {
        "id": "pe_wCix1Jt8B"
      }
    },
    {
      "cell_type": "code",
      "source": [
        "if __name__ == \"__main__\":\n",
        "    main()"
      ],
      "metadata": {
        "colab": {
          "base_uri": "https://localhost:8080/",
          "height": 1000
        },
        "id": "SZGTgIIJOCxF",
        "outputId": "1a3fe9ff-3aa6-4298-8e01-f95bab215fd8"
      },
      "execution_count": 39,
      "outputs": [
        {
          "output_type": "stream",
          "name": "stdout",
          "text": [
            "Bem-vindo ao suporte técnico do Gemini!\n",
            "\n",
            "Você pode digitar 'fim' a qualquer momento para encerrar a conversa.\n",
            "\n",
            "Você: estou tendo um problema com minha conexão, ela funciona normalmente no meu notebook porém não funciona no celular. o que pode ser?\n",
            "\n",
            "Gemini: **Possíveis causas:**\n",
            "\n",
            "**1. Configurações de rede incorretas no celular:**\n",
            "\n",
            "* Verifique se o Wi-Fi ou dados móveis estão ativados.\n",
            "* Certifique-se de que você esteja conectado à rede correta.\n",
            "* Reinicie o celular para atualizar as configurações de rede.\n",
            "\n",
            "**2. Problemas de sinal:**\n",
            "\n",
            "* Verifique se o sinal de Wi-Fi ou dados móveis é forte o suficiente.\n",
            "* Mova-se para uma área com melhor sinal.\n",
            "* Reinicie o roteador ou modem.\n",
            "\n",
            "**3. Limites de dados:**\n",
            "\n",
            "* Verifique se você atingiu o limite de dados do seu plano de dados móveis.\n",
            "\n",
            "**4. Restrições do dispositivo:**\n",
            "\n",
            "* Alguns celulares podem ter restrições que bloqueiam a conexão com certas redes ou dispositivos.\n",
            "* Verifique as configurações do seu celular para quaisquer restrições.\n",
            "\n",
            "**5. Problemas de software:**\n",
            "\n",
            "* Verifique se há atualizações de software disponíveis para o seu celular.\n",
            "* Redefina as configurações de rede do seu celular (isso apagará todas as senhas de Wi-Fi salvas).\n",
            "\n",
            "**6. Problemas do provedor de serviços:**\n",
            "\n",
            "* Entre em contato com seu provedor de serviços para verificar se há interrupções ou problemas na área.\n",
            "\n",
            "**Etapas de solução de problemas:**\n",
            "\n",
            "* Reinicie o celular.\n",
            "* Verifique as configurações de rede do celular.\n",
            "* Mova-se para uma área com melhor sinal.\n",
            "* Verifique os limites de dados.\n",
            "* Verifique as restrições do dispositivo.\n",
            "* Atualize o software do celular.\n",
            "* Redefina as configurações de rede do celular.\n",
            "* Entre em contato com o provedor de serviços. \n",
            "\n"
          ]
        },
        {
          "output_type": "display_data",
          "data": {
            "text/plain": [
              "<IPython.core.display.Markdown object>"
            ],
            "text/markdown": "> **user**: estou tendo um problema com minha conexão, ela funciona normalmente no meu notebook porém não funciona no celular. o que pode ser?"
          },
          "metadata": {}
        },
        {
          "output_type": "stream",
          "name": "stdout",
          "text": [
            "-------------------------------------------\n"
          ]
        },
        {
          "output_type": "display_data",
          "data": {
            "text/plain": [
              "<IPython.core.display.Markdown object>"
            ],
            "text/markdown": "> **model**: **Possíveis causas:**\n> \n> **1. Configurações de rede incorretas no celular:**\n> \n> * Verifique se o Wi-Fi ou dados móveis estão ativados.\n> * Certifique-se de que você esteja conectado à rede correta.\n> * Reinicie o celular para atualizar as configurações de rede.\n> \n> **2. Problemas de sinal:**\n> \n> * Verifique se o sinal de Wi-Fi ou dados móveis é forte o suficiente.\n> * Mova-se para uma área com melhor sinal.\n> * Reinicie o roteador ou modem.\n> \n> **3. Limites de dados:**\n> \n> * Verifique se você atingiu o limite de dados do seu plano de dados móveis.\n> \n> **4. Restrições do dispositivo:**\n> \n> * Alguns celulares podem ter restrições que bloqueiam a conexão com certas redes ou dispositivos.\n> * Verifique as configurações do seu celular para quaisquer restrições.\n> \n> **5. Problemas de software:**\n> \n> * Verifique se há atualizações de software disponíveis para o seu celular.\n> * Redefina as configurações de rede do seu celular (isso apagará todas as senhas de Wi-Fi salvas).\n> \n> **6. Problemas do provedor de serviços:**\n> \n> * Entre em contato com seu provedor de serviços para verificar se há interrupções ou problemas na área.\n> \n> **Etapas de solução de problemas:**\n> \n> * Reinicie o celular.\n> * Verifique as configurações de rede do celular.\n> * Mova-se para uma área com melhor sinal.\n> * Verifique os limites de dados.\n> * Verifique as restrições do dispositivo.\n> * Atualize o software do celular.\n> * Redefina as configurações de rede do celular.\n> * Entre em contato com o provedor de serviços."
          },
          "metadata": {}
        },
        {
          "output_type": "stream",
          "name": "stdout",
          "text": [
            "-------------------------------------------\n",
            "Você: obrigado\n",
            "\n",
            "Gemini: De nada! Fico feliz em poder ajudar. Se precisar de mais alguma coisa, não hesite em perguntar. \n",
            "\n"
          ]
        },
        {
          "output_type": "display_data",
          "data": {
            "text/plain": [
              "<IPython.core.display.Markdown object>"
            ],
            "text/markdown": "> **user**: estou tendo um problema com minha conexão, ela funciona normalmente no meu notebook porém não funciona no celular. o que pode ser?"
          },
          "metadata": {}
        },
        {
          "output_type": "stream",
          "name": "stdout",
          "text": [
            "-------------------------------------------\n"
          ]
        },
        {
          "output_type": "display_data",
          "data": {
            "text/plain": [
              "<IPython.core.display.Markdown object>"
            ],
            "text/markdown": "> **model**: **Possíveis causas:**\n> \n> **1. Configurações de rede incorretas no celular:**\n> \n> * Verifique se o Wi-Fi ou dados móveis estão ativados.\n> * Certifique-se de que você esteja conectado à rede correta.\n> * Reinicie o celular para atualizar as configurações de rede.\n> \n> **2. Problemas de sinal:**\n> \n> * Verifique se o sinal de Wi-Fi ou dados móveis é forte o suficiente.\n> * Mova-se para uma área com melhor sinal.\n> * Reinicie o roteador ou modem.\n> \n> **3. Limites de dados:**\n> \n> * Verifique se você atingiu o limite de dados do seu plano de dados móveis.\n> \n> **4. Restrições do dispositivo:**\n> \n> * Alguns celulares podem ter restrições que bloqueiam a conexão com certas redes ou dispositivos.\n> * Verifique as configurações do seu celular para quaisquer restrições.\n> \n> **5. Problemas de software:**\n> \n> * Verifique se há atualizações de software disponíveis para o seu celular.\n> * Redefina as configurações de rede do seu celular (isso apagará todas as senhas de Wi-Fi salvas).\n> \n> **6. Problemas do provedor de serviços:**\n> \n> * Entre em contato com seu provedor de serviços para verificar se há interrupções ou problemas na área.\n> \n> **Etapas de solução de problemas:**\n> \n> * Reinicie o celular.\n> * Verifique as configurações de rede do celular.\n> * Mova-se para uma área com melhor sinal.\n> * Verifique os limites de dados.\n> * Verifique as restrições do dispositivo.\n> * Atualize o software do celular.\n> * Redefina as configurações de rede do celular.\n> * Entre em contato com o provedor de serviços."
          },
          "metadata": {}
        },
        {
          "output_type": "stream",
          "name": "stdout",
          "text": [
            "-------------------------------------------\n"
          ]
        },
        {
          "output_type": "display_data",
          "data": {
            "text/plain": [
              "<IPython.core.display.Markdown object>"
            ],
            "text/markdown": "> **user**: obrigado"
          },
          "metadata": {}
        },
        {
          "output_type": "stream",
          "name": "stdout",
          "text": [
            "-------------------------------------------\n"
          ]
        },
        {
          "output_type": "display_data",
          "data": {
            "text/plain": [
              "<IPython.core.display.Markdown object>"
            ],
            "text/markdown": "> **model**: De nada! Fico feliz em poder ajudar. Se precisar de mais alguma coisa, não hesite em perguntar."
          },
          "metadata": {}
        },
        {
          "output_type": "stream",
          "name": "stdout",
          "text": [
            "-------------------------------------------\n",
            "Você: fim\n",
            "\n",
            "Conversa encerrada. Obrigado por usar o suporte técnico do Gemini!\n"
          ]
        }
      ]
    }
  ]
}